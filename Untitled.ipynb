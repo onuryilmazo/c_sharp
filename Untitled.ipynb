{
 "cells": [
  {
   "cell_type": "code",
   "execution_count": 1,
   "id": "aa37ff5f-8e1f-47a8-896a-0be67620daef",
   "metadata": {},
   "outputs": [
    {
     "name": "stderr",
     "output_type": "stream",
     "text": [
      "2024-01-21 14:30:30.689366: I tensorflow/core/util/port.cc:110] oneDNN custom operations are on. You may see slightly different numerical results due to floating-point round-off errors from different computation orders. To turn them off, set the environment variable `TF_ENABLE_ONEDNN_OPTS=0`.\n",
      "2024-01-21 14:30:30.931396: I tensorflow/core/platform/cpu_feature_guard.cc:182] This TensorFlow binary is optimized to use available CPU instructions in performance-critical operations.\n",
      "To enable the following instructions: AVX2 AVX_VNNI FMA, in other operations, rebuild TensorFlow with the appropriate compiler flags.\n",
      "2024-01-21 14:30:31.550062: W tensorflow/compiler/tf2tensorrt/utils/py_utils.cc:38] TF-TRT Warning: Could not find TensorRT\n",
      "2024-01-21 14:30:44.555233: I tensorflow/compiler/xla/stream_executor/cuda/cuda_gpu_executor.cc:995] successful NUMA node read from SysFS had negative value (-1), but there must be at least one NUMA node, so returning NUMA node zero. See more at https://github.com/torvalds/linux/blob/v6.0/Documentation/ABI/testing/sysfs-bus-pci#L344-L355\n",
      "2024-01-21 14:30:44.588279: W tensorflow/core/common_runtime/gpu/gpu_device.cc:1960] Cannot dlopen some GPU libraries. Please make sure the missing libraries mentioned above are installed properly if you would like to use GPU. Follow the guide at https://www.tensorflow.org/install/gpu for how to download and setup the required libraries for your platform.\n",
      "Skipping registering GPU devices...\n"
     ]
    },
    {
     "name": "stdout",
     "output_type": "stream",
     "text": [
      "Epoch 1/5\n",
      "632/632 [==============================] - 107s 167ms/step - loss: 0.1012 - accuracy: 0.9617 - val_loss: 0.3106 - val_accuracy: 0.8733\n",
      "Epoch 2/5\n",
      "632/632 [==============================] - 106s 167ms/step - loss: 0.0529 - accuracy: 0.9839 - val_loss: 0.3101 - val_accuracy: 0.9065\n",
      "Epoch 3/5\n",
      "632/632 [==============================] - 107s 169ms/step - loss: 0.0318 - accuracy: 0.9908 - val_loss: 0.2735 - val_accuracy: 0.9450\n",
      "Epoch 4/5\n",
      "632/632 [==============================] - 98s 155ms/step - loss: 0.0402 - accuracy: 0.9861 - val_loss: 0.1866 - val_accuracy: 0.9519\n",
      "Epoch 5/5\n",
      "632/632 [==============================] - 56s 88ms/step - loss: 0.0167 - accuracy: 0.9951 - val_loss: 0.7884 - val_accuracy: 0.7775\n"
     ]
    },
    {
     "data": {
      "text/plain": [
       "<keras.src.callbacks.History at 0x7fd4116283a0>"
      ]
     },
     "execution_count": 1,
     "metadata": {},
     "output_type": "execute_result"
    }
   ],
   "source": [
    "import tensorflow as tf\n",
    "from tensorflow.keras.models import Sequential\n",
    "from tensorflow.keras.layers import Dense, Embedding, LSTM, SpatialDropout1D\n",
    "from tensorflow.keras.preprocessing.sequence import pad_sequences\n",
    "from tensorflow.keras.preprocessing.text import Tokenizer\n",
    "import numpy as np\n",
    "import pandas as pd\n",
    "\n",
    "# Veri setinizi yükleyin (varsayılan olarak 'doğru_haberler' ve 'yanlis_haberler' olarak adlandırıldı)\n",
    "doğru_haberler = pd.read_csv(\"true.csv\")\n",
    "yanlis_haberler = pd.read_csv(\"fake.csv\")\n",
    "\n",
    "# Veri önişleme\n",
    "# Metin verilerini ve etiketleri birleştirin (doğru = 1, yanlış = 0)\n",
    "metinler = np.concatenate([doğru_haberler['text'], yanlis_haberler['text']])\n",
    "etiketler = np.concatenate([np.ones(len(doğru_haberler)), np.zeros(len(yanlis_haberler))])\n",
    "\n",
    "# Tokenizasyon\n",
    "tokenizer = Tokenizer(num_words=5000)\n",
    "tokenizer.fit_on_texts(metinler)\n",
    "sequences = tokenizer.texts_to_sequences(metinler)\n",
    "data = pad_sequences(sequences, maxlen=200)\n",
    "\n",
    "# Model oluşturma\n",
    "model = Sequential()\n",
    "model.add(Embedding(5000, 100, input_length=200))\n",
    "model.add(SpatialDropout1D(0.2))\n",
    "model.add(LSTM(100, dropout=0.2, recurrent_dropout=0.2))\n",
    "model.add(Dense(1, activation='sigmoid'))\n",
    "\n",
    "model.compile(loss='binary_crossentropy', optimizer='adam', metrics=['accuracy'])\n",
    "\n",
    "# Modeli eğitin\n",
    "model.fit(data, etiketler, epochs=5, batch_size=64, validation_split=0.1)\n"
   ]
  },
  {
   "cell_type": "code",
   "execution_count": null,
   "id": "abc067ee-ff69-4d9c-8403-aaf40f001254",
   "metadata": {},
   "outputs": [],
   "source": [
    "from transformers import GPT2LMHeadModel, GPT2Tokenizer\n",
    "\n",
    "# Model ve tokenizer yükleniyor.\n",
    "tokenizer = GPT2Tokenizer.from_pretrained(\"gpt2\")\n",
    "model = GPT2LMHeadModel.from_pretrained(\"gpt2\")\n",
    "\n",
    "# Konu ile ilgili prompt oluşturuluyor.\n",
    "konu = \"politicNews\"  # Örnek bir konu\n",
    "prompt = f\"Bu konu ile ilgili sahte bir haber yazın: {konu}\"\n",
    "\n",
    "# Prompt'u modele vermek üzere tokenlara dönüştürülüyor.\n",
    "inputs = tokenizer.encode(prompt, return_tensors='pt')\n",
    "\n",
    "# Model, verilen input'a göre metin üretiyor.\n",
    "outputs = model.generate(inputs, max_length=50, num_return_sequences=1)\n",
    "\n",
    "# Üretilen metin, tokenlerden tekrar metne çevriliyor.\n",
    "text = tokenizer.decode(outputs[0], skip_special_tokens=True)\n",
    "\n",
    "print(text)\n"
   ]
  }
 ],
 "metadata": {
  "kernelspec": {
   "display_name": "Python 3 (ipykernel)",
   "language": "python",
   "name": "python3"
  },
  "language_info": {
   "codemirror_mode": {
    "name": "ipython",
    "version": 3
   },
   "file_extension": ".py",
   "mimetype": "text/x-python",
   "name": "python",
   "nbconvert_exporter": "python",
   "pygments_lexer": "ipython3",
   "version": "3.8.10"
  }
 },
 "nbformat": 4,
 "nbformat_minor": 5
}
